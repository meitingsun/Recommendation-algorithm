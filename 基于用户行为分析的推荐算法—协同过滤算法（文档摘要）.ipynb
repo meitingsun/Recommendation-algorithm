{
 "cells": [
  {
   "cell_type": "markdown",
   "metadata": {},
   "source": [
    "协同过滤是指用户可以齐心协力，通过不断地和网站互动，使得自己的推荐列表能够不断过滤掉自己不感兴趣的物品，从而越来越满足自己的需求"
   ]
  },
  {
   "cell_type": "markdown",
   "metadata": {},
   "source": [
    "### 用户行为在个性化推荐系统中一般分为两种：显性反馈行为和隐形反馈行为。\n",
    "显性反馈行为：包括用户明确表示对物品喜好的行为。主要方式：评分和喜欢/不喜欢。\n",
    "\n",
    "\n",
    "隐形反馈行为：指的是那些不能明确反应用户喜好的行为。最具代表性的隐形反馈行为就是页面浏览行为。\n"
   ]
  },
  {
   "cell_type": "markdown",
   "metadata": {},
   "source": [
    "### 按反馈的方向分：正反馈和负反馈\n",
    "正反馈：用户行为倾向于指用户喜欢该物品。\n",
    "\n",
    "负反馈：用户行为倾向于指用户不喜欢该物品。"
   ]
  },
  {
   "cell_type": "markdown",
   "metadata": {},
   "source": [
    "### 用户行为表示法：产生行为的用户和行为的对象、行为的种类、产生行为的上下文、 行为的内容和权重。\n",
    " 用户行为的统一表示\n",
    " user id 产生行为的用户的唯一标识\n",
    " \n",
    " item id 产生行为的对象的唯一标识\n",
    " \n",
    " behavior type 行为的种类（比如是购买还是浏览）\n",
    " \n",
    " context 产生行为的上下文，包括时间和地点等\n",
    " \n",
    " behavior weight 行为的权重（如果是观看视频的行为，那么这个权重可以是观看时长，如果是打分行为，这个权重可以是分数）\n",
    " \n",
    " behavior content 行为的内容（如果是评论行为，那么就是评论的文本，如果是打标签的行为，就是标签）"
   ]
  },
  {
   "cell_type": "markdown",
   "metadata": {},
   "source": [
    "### 用户数据集类型：\n",
    "无上下文信息的隐形反馈数据集：每一条行为记录仅仅包含用户ID和物品ID。\n",
    "\n",
    "无上下文信息的显性反馈数据集：每一条记录包含用户ID，物品ID和用户对物品的评分\n",
    "\n",
    "有上下文信息的隐形反馈数据集：每一条记录包含用户ID、物品ID和用户对物品产生行为的时间戳\n",
    "\n",
    "有上下文信息的显性反馈数据集：每一条记录包含用户ID、物品ID、用户对物品的评分和评分行为产生的时间戳"
   ]
  }
 ],
 "metadata": {
  "kernelspec": {
   "display_name": "Python 3",
   "language": "python",
   "name": "python3"
  },
  "language_info": {
   "codemirror_mode": {
    "name": "ipython",
    "version": 3
   },
   "file_extension": ".py",
   "mimetype": "text/x-python",
   "name": "python",
   "nbconvert_exporter": "python",
   "pygments_lexer": "ipython3",
   "version": "3.6.4"
  }
 },
 "nbformat": 4,
 "nbformat_minor": 2
}
