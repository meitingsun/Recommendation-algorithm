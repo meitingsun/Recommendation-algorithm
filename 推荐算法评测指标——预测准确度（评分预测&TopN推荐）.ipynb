{
 "cells": [
  {
   "cell_type": "markdown",
   "metadata": {},
   "source": [
    "### 评分预测：预测用户对物品评分的行为。\n",
    "如果知道了用户对物品的历史评分，就可以从中学习得到用户的兴趣模型，并预测改用户在将来看到一个他没有评过分的物品时，会给这个物品评多少分。"
   ]
  },
  {
   "cell_type": "markdown",
   "metadata": {},
   "source": [
    "评分预测的预测准确度一般通过均方根误差（RMSE）和平均绝对误差（MAE）计算。"
   ]
  },
  {
   "cell_type": "markdown",
   "metadata": {},
   "source": [
    "对于测试集，假设一个列表records存放用户评分数据，令records[i]=[u,i,Rui,Pui],其中Rui是用户u对物品i的实际评分，Pui是算法预测出来的用户u对物品i的评分。下面的代码分别实现了RMSE和MAE的计算过程。"
   ]
  },
  {
   "cell_type": "code",
   "execution_count": null,
   "metadata": {},
   "outputs": [],
   "source": [
    "def RMSE(records):\n",
    "    return math.sqrt(\\sum([(Rui-Pui)*(Rui-Pui)] for u,i Rui,Pui in records])\\\n",
    "                     / float(len(records)))\n",
    "\n",
    "def MAE(records):\n",
    "    return sum([abs(Rui-Pui) for u,i Rui,Pui in records])\\/ float(len(records))"
   ]
  },
  {
   "cell_type": "markdown",
   "metadata": {},
   "source": [
    "关于RMSE和MAE的优缺点，RMSE加大了对预测不准的用户物品评分的惩罚（平方项的惩罚），因而对系统\n",
    "的评测更加苛刻。研究表明，如果评分系统是基于整数建立的（即用户给的评分都是整数），那么对预测结果取整对会降低MAE的误差"
   ]
  },
  {
   "cell_type": "markdown",
   "metadata": {},
   "source": [
    "### TopN推荐：网站在提供推荐服务时，一般是给用户一个个性化的推荐列表，这种推荐叫做TopN推荐。 "
   ]
  },
  {
   "cell_type": "markdown",
   "metadata": {},
   "source": [
    "TopN推荐的预测准确率一般是通过准确度（precision）和召回率（recall）来度量"
   ]
  },
  {
   "cell_type": "markdown",
   "metadata": {},
   "source": [
    "令R（u）是根据用户在训练集上的行为给用户作出的推荐列表，而T（u）是用户在测试集上的行为列表，代码计算出了一个推荐算法的准确率和召回率，实现过程如下："
   ]
  },
  {
   "cell_type": "code",
   "execution_count": null,
   "metadata": {},
   "outputs": [],
   "source": [
    "def PrecisionRecall(test,N):\n",
    "    hit=0\n",
    "    n_recall=0\n",
    "    n_precision=0\n",
    "    for user,items in test.items():\n",
    "        rank=Recommend(user,N)\n",
    "        hit+=len(rank & items)\n",
    "        n_recall+=len(items)\n",
    "        n_precision+=N\n",
    "    return [hit/(1.0* n_recall), hit/(1.0 * n_precision)]\n",
    "# rank是表示给用户作出的推荐列表，item是表示用户在测试集上的行为列表。\n",
    "# precision=abs(R(u) ∩ T（u）)/ abs(T(u));recall=abs(R(u) ∩ T（u）)/ abs(R(u))"
   ]
  },
  {
   "cell_type": "markdown",
   "metadata": {},
   "source": [
    "评分预测和TopN推荐的讨论：早期主要集中在优化评分预测RMSE上，而现在TopN推荐更加符合实际的应用需求。"
   ]
  }
 ],
 "metadata": {
  "kernelspec": {
   "display_name": "Python 3",
   "language": "python",
   "name": "python3"
  },
  "language_info": {
   "codemirror_mode": {
    "name": "ipython",
    "version": 3
   },
   "file_extension": ".py",
   "mimetype": "text/x-python",
   "name": "python",
   "nbconvert_exporter": "python",
   "pygments_lexer": "ipython3",
   "version": "3.6.4"
  }
 },
 "nbformat": 4,
 "nbformat_minor": 2
}
