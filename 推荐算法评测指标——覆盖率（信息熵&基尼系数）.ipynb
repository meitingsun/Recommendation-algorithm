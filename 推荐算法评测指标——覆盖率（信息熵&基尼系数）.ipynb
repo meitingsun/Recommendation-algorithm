{
 "cells": [
  {
   "cell_type": "markdown",
   "metadata": {},
   "source": [
    "### 覆盖率（coverage）:推荐系统能够推荐出来的物品占总物品集合的比例。描述一个推荐系统对物品长尾的发掘能力。\n",
    "一个好的推荐系统不仅需要有比较高的用户满意度，也要有较高的覆盖率。"
   ]
  },
  {
   "cell_type": "markdown",
   "metadata": {},
   "source": [
    "假设系统的用户集合为U，推荐系统给每一个用户推荐一个长度为N的物品列表R（u），那么推荐系统的覆盖率可以通过公式计算：coverage=abs（U R(u)）/abs(I)"
   ]
  },
  {
   "cell_type": "markdown",
   "metadata": {},
   "source": [
    "上面的定义过于粗略。覆盖率为100%的系统可以有无数的物品流行度分布。为了更细致的描述推荐系统发掘长尾的能力，需要统计推荐列表中不同物品出现次数的分布。如果所有的物品都出现在推荐列表中，且出现的次数差不多，那么推荐系统发掘长尾的能力就很好。因此，可以通过研究物品在推荐列表中出现次数的分布描述系统挖掘肠胃的能力。如果这个分布比较平，那么说明推荐系统的覆盖率较高。而如果这个分布较陡峭，说明推荐系统的覆盖率较低。"
   ]
  },
  {
   "cell_type": "markdown",
   "metadata": {},
   "source": [
    "### 覆盖率—信息熵"
   ]
  },
  {
   "cell_type": "markdown",
   "metadata": {},
   "source": [
    "H=∑p(i)log p(i),这里p（i）是物品i的流行度除以所有物品流行度之和。"
   ]
  },
  {
   "cell_type": "markdown",
   "metadata": {},
   "source": [
    "### 覆盖率—基尼系数（Gini Index）"
   ]
  },
  {
   "cell_type": "markdown",
   "metadata": {},
   "source": [
    "G=1/(n-1)∑（2j-n-1）p(ij),这里ij是按照物品流行度p（）从小达大排序的物品列表中第j个物品。下面的代码可以用来计算给定物品流行度分布后的基尼系数（也就是所下面的代码没有计算物品的流行度）"
   ]
  },
  {
   "cell_type": "code",
   "execution_count": null,
   "metadata": {},
   "outputs": [],
   "source": [
    "def GiniIndex(p):\n",
    "    j=i\n",
    "    n=len(p)\n",
    "    G=0\n",
    "    for item,weight in sorted(p.item(),key=itemetter(l)):\n",
    "        G+=(2*j-n-1)*weight\n",
    "    return G/float(n-1)"
   ]
  },
  {
   "cell_type": "markdown",
   "metadata": {},
   "source": [
    "如果系统的流行度很平均，那么SA就会很小，从而基尼系数很小。如果系统物品流行度分配很不均匀，那么SA就会很大，从而基尼系数也会很大"
   ]
  }
 ],
 "metadata": {
  "kernelspec": {
   "display_name": "Python 3",
   "language": "python",
   "name": "python3"
  },
  "language_info": {
   "codemirror_mode": {
    "name": "ipython",
    "version": 3
   },
   "file_extension": ".py",
   "mimetype": "text/x-python",
   "name": "python",
   "nbconvert_exporter": "python",
   "pygments_lexer": "ipython3",
   "version": "3.6.4"
  }
 },
 "nbformat": 4,
 "nbformat_minor": 2
}
